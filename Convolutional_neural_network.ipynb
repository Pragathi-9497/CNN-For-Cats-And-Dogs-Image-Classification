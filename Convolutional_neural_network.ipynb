{
 "cells": [
  {
   "cell_type": "markdown",
   "id": "895fcee7",
   "metadata": {},
   "source": [
    "# Classification of Cats and Dogs Using Convolutional Neural Networks"
   ]
  },
  {
   "cell_type": "markdown",
   "id": "8c1901b2",
   "metadata": {},
   "source": [
    "## Importing libraries"
   ]
  },
  {
   "cell_type": "code",
   "execution_count": 1,
   "id": "c4619d20",
   "metadata": {},
   "outputs": [],
   "source": [
    "import tensorflow as tf"
   ]
  },
  {
   "cell_type": "code",
   "execution_count": 2,
   "id": "48065b3e",
   "metadata": {},
   "outputs": [],
   "source": [
    "from keras.preprocessing.image import ImageDataGenerator"
   ]
  },
  {
   "cell_type": "code",
   "execution_count": 3,
   "id": "ed0ba68b",
   "metadata": {},
   "outputs": [
    {
     "data": {
      "text/plain": [
       "'2.9.1'"
      ]
     },
     "execution_count": 3,
     "metadata": {},
     "output_type": "execute_result"
    }
   ],
   "source": [
    "tf.__version__"
   ]
  },
  {
   "cell_type": "markdown",
   "id": "e5e8387d",
   "metadata": {},
   "source": [
    "## Part 1 - Data preprocessing"
   ]
  },
  {
   "cell_type": "markdown",
   "id": "f4c66070",
   "metadata": {},
   "source": [
    "### Preprocessing the training set"
   ]
  },
  {
   "cell_type": "code",
   "execution_count": 4,
   "id": "8c8aace5",
   "metadata": {},
   "outputs": [
    {
     "name": "stdout",
     "output_type": "stream",
     "text": [
      "Found 8000 images belonging to 2 classes.\n"
     ]
    }
   ],
   "source": [
    "train_datagen=ImageDataGenerator(rescale=1./255, shear_range=0.2, zoom_range=0.2, horizontal_flip=True)\n",
    "training_set=train_datagen.flow_from_directory(r'C:\\Users\\praga\\Downloads\\CATS_DOGS\\CNN\\dataset\\training_set',target_size=(64,64),batch_size=32,class_mode='binary')"
   ]
  },
  {
   "cell_type": "markdown",
   "id": "dcc0bdaf",
   "metadata": {},
   "source": [
    "### Preprocessing the test set"
   ]
  },
  {
   "cell_type": "code",
   "execution_count": 5,
   "id": "df10bdfe",
   "metadata": {},
   "outputs": [
    {
     "name": "stdout",
     "output_type": "stream",
     "text": [
      "Found 2000 images belonging to 2 classes.\n"
     ]
    }
   ],
   "source": [
    "test_datagen=ImageDataGenerator(rescale=1./255)\n",
    "test_set=test_datagen.flow_from_directory(r'C:\\Users\\praga\\Downloads\\CATS_DOGS\\CNN\\dataset\\test_set',target_size=(64,64),batch_size=32, class_mode='binary')"
   ]
  },
  {
   "cell_type": "markdown",
   "id": "a4c70306",
   "metadata": {},
   "source": [
    "## Part 2-  Building CNN"
   ]
  },
  {
   "cell_type": "markdown",
   "id": "5a58eb6a",
   "metadata": {},
   "source": [
    "### Intialising the CNN"
   ]
  },
  {
   "cell_type": "code",
   "execution_count": 6,
   "id": "f10523a5",
   "metadata": {},
   "outputs": [],
   "source": [
    "\n",
    "cnn=tf.keras.models.Sequential()"
   ]
  },
  {
   "cell_type": "markdown",
   "id": "a52554fd",
   "metadata": {},
   "source": [
    "### Step 1 - Convolution"
   ]
  },
  {
   "cell_type": "code",
   "execution_count": 7,
   "id": "641490b3",
   "metadata": {},
   "outputs": [],
   "source": [
    "cnn.add(tf.keras.layers.Conv2D(filters=32, kernel_size=3, activation='relu', input_shape=[64,64,3]))"
   ]
  },
  {
   "cell_type": "markdown",
   "id": "2b710be4",
   "metadata": {},
   "source": [
    "### Step 2 - Pooling "
   ]
  },
  {
   "cell_type": "code",
   "execution_count": 8,
   "id": "e00d4578",
   "metadata": {},
   "outputs": [],
   "source": [
    "cnn.add(tf.keras.layers.MaxPool2D(pool_size=2, strides=2))"
   ]
  },
  {
   "cell_type": "markdown",
   "id": "d9e4918b",
   "metadata": {},
   "source": [
    "### Adding second convolutional layer"
   ]
  },
  {
   "cell_type": "code",
   "execution_count": 9,
   "id": "a385f98e",
   "metadata": {},
   "outputs": [],
   "source": [
    "cnn.add(tf.keras.layers.Conv2D(filters=32,kernel_size=3,activation='relu'))\n",
    "cnn.add(tf.keras.layers.MaxPool2D(pool_size=2,strides=2))\n"
   ]
  },
  {
   "cell_type": "markdown",
   "id": "b606ea0a",
   "metadata": {},
   "source": [
    "### Step 3 - Flattening"
   ]
  },
  {
   "cell_type": "code",
   "execution_count": 10,
   "id": "5c70655a",
   "metadata": {},
   "outputs": [],
   "source": [
    "cnn.add(tf.keras.layers.Flatten())"
   ]
  },
  {
   "cell_type": "markdown",
   "id": "cfbe7636",
   "metadata": {},
   "source": [
    "### Step 4 - Full Connection "
   ]
  },
  {
   "cell_type": "code",
   "execution_count": 11,
   "id": "2b0f9f0c",
   "metadata": {},
   "outputs": [],
   "source": [
    "cnn.add(tf.keras.layers.Dense(units=128,activation='relu'))"
   ]
  },
  {
   "cell_type": "markdown",
   "id": "ec072f2b",
   "metadata": {},
   "source": [
    "### Step 5 - Output layer`"
   ]
  },
  {
   "cell_type": "code",
   "execution_count": 12,
   "id": "1bd9a5a0",
   "metadata": {},
   "outputs": [],
   "source": [
    "cnn.add(tf.keras.layers.Dense(units=1, activation='sigmoid'))"
   ]
  },
  {
   "cell_type": "markdown",
   "id": "05315b9e",
   "metadata": {},
   "source": [
    "## Part 3 - Training the CNN"
   ]
  },
  {
   "cell_type": "markdown",
   "id": "4204474a",
   "metadata": {},
   "source": [
    "### Compiling the CNN"
   ]
  },
  {
   "cell_type": "code",
   "execution_count": 13,
   "id": "b2ff5211",
   "metadata": {},
   "outputs": [],
   "source": [
    "cnn.compile(optimizer='adam', loss='binary_crossentropy', metrics=['accuracy'])\n"
   ]
  },
  {
   "cell_type": "markdown",
   "id": "81cacb0b",
   "metadata": {},
   "source": [
    "### Training the CNN and evaluating it on the test set"
   ]
  },
  {
   "cell_type": "code",
   "execution_count": 14,
   "id": "24b90b76",
   "metadata": {},
   "outputs": [
    {
     "name": "stdout",
     "output_type": "stream",
     "text": [
      "Epoch 1/30\n",
      "250/250 [==============================] - 365s 1s/step - loss: 0.6754 - accuracy: 0.5801 - val_loss: 0.6096 - val_accuracy: 0.6870\n",
      "Epoch 2/30\n",
      "250/250 [==============================] - 43s 173ms/step - loss: 0.6005 - accuracy: 0.6770 - val_loss: 0.5722 - val_accuracy: 0.7025\n",
      "Epoch 3/30\n",
      "250/250 [==============================] - 41s 162ms/step - loss: 0.5578 - accuracy: 0.7161 - val_loss: 0.5879 - val_accuracy: 0.6840\n",
      "Epoch 4/30\n",
      "250/250 [==============================] - 40s 159ms/step - loss: 0.5226 - accuracy: 0.7400 - val_loss: 0.4990 - val_accuracy: 0.7570\n",
      "Epoch 5/30\n",
      "250/250 [==============================] - 40s 158ms/step - loss: 0.5059 - accuracy: 0.7508 - val_loss: 0.4906 - val_accuracy: 0.7745\n",
      "Epoch 6/30\n",
      "250/250 [==============================] - 39s 158ms/step - loss: 0.4800 - accuracy: 0.7624 - val_loss: 0.5185 - val_accuracy: 0.7600\n",
      "Epoch 7/30\n",
      "250/250 [==============================] - 40s 161ms/step - loss: 0.4707 - accuracy: 0.7740 - val_loss: 0.5084 - val_accuracy: 0.7570\n",
      "Epoch 8/30\n",
      "250/250 [==============================] - 40s 158ms/step - loss: 0.4562 - accuracy: 0.7884 - val_loss: 0.4770 - val_accuracy: 0.7750\n",
      "Epoch 9/30\n",
      "250/250 [==============================] - 40s 160ms/step - loss: 0.4389 - accuracy: 0.7975 - val_loss: 0.4888 - val_accuracy: 0.7810\n",
      "Epoch 10/30\n",
      "250/250 [==============================] - 40s 159ms/step - loss: 0.4327 - accuracy: 0.7945 - val_loss: 0.4541 - val_accuracy: 0.7930\n",
      "Epoch 11/30\n",
      "250/250 [==============================] - 41s 164ms/step - loss: 0.4262 - accuracy: 0.8016 - val_loss: 0.4609 - val_accuracy: 0.7865\n",
      "Epoch 12/30\n",
      "250/250 [==============================] - 43s 171ms/step - loss: 0.4120 - accuracy: 0.8106 - val_loss: 0.4519 - val_accuracy: 0.7960\n",
      "Epoch 13/30\n",
      "250/250 [==============================] - 42s 168ms/step - loss: 0.4011 - accuracy: 0.8224 - val_loss: 0.4421 - val_accuracy: 0.8015\n",
      "Epoch 14/30\n",
      "250/250 [==============================] - 42s 166ms/step - loss: 0.3877 - accuracy: 0.8245 - val_loss: 0.4434 - val_accuracy: 0.8075\n",
      "Epoch 15/30\n",
      "250/250 [==============================] - 44s 175ms/step - loss: 0.3830 - accuracy: 0.8231 - val_loss: 0.4472 - val_accuracy: 0.8070\n",
      "Epoch 16/30\n",
      "250/250 [==============================] - 44s 176ms/step - loss: 0.3700 - accuracy: 0.8282 - val_loss: 0.4615 - val_accuracy: 0.7990\n",
      "Epoch 17/30\n",
      "250/250 [==============================] - 42s 167ms/step - loss: 0.3517 - accuracy: 0.8378 - val_loss: 0.5633 - val_accuracy: 0.7630\n",
      "Epoch 18/30\n",
      "250/250 [==============================] - 43s 170ms/step - loss: 0.3502 - accuracy: 0.8396 - val_loss: 0.4405 - val_accuracy: 0.8150\n",
      "Epoch 19/30\n",
      "250/250 [==============================] - 42s 169ms/step - loss: 0.3411 - accuracy: 0.8482 - val_loss: 0.4375 - val_accuracy: 0.8085\n",
      "Epoch 20/30\n",
      "250/250 [==============================] - 42s 169ms/step - loss: 0.3317 - accuracy: 0.8480 - val_loss: 0.4254 - val_accuracy: 0.8205\n",
      "Epoch 21/30\n",
      "250/250 [==============================] - 43s 172ms/step - loss: 0.3239 - accuracy: 0.8605 - val_loss: 0.4576 - val_accuracy: 0.8170\n",
      "Epoch 22/30\n",
      "250/250 [==============================] - 42s 169ms/step - loss: 0.3132 - accuracy: 0.8608 - val_loss: 0.4514 - val_accuracy: 0.8195\n",
      "Epoch 23/30\n",
      "250/250 [==============================] - 43s 173ms/step - loss: 0.3049 - accuracy: 0.8686 - val_loss: 0.4567 - val_accuracy: 0.8195\n",
      "Epoch 24/30\n",
      "250/250 [==============================] - 43s 171ms/step - loss: 0.2880 - accuracy: 0.8774 - val_loss: 0.4828 - val_accuracy: 0.8075\n",
      "Epoch 25/30\n",
      "250/250 [==============================] - 44s 176ms/step - loss: 0.2797 - accuracy: 0.8810 - val_loss: 0.4590 - val_accuracy: 0.8225\n",
      "Epoch 26/30\n",
      "250/250 [==============================] - 43s 173ms/step - loss: 0.2854 - accuracy: 0.8824 - val_loss: 0.5078 - val_accuracy: 0.8020\n",
      "Epoch 27/30\n",
      "250/250 [==============================] - 46s 184ms/step - loss: 0.2700 - accuracy: 0.8855 - val_loss: 0.5018 - val_accuracy: 0.8175\n",
      "Epoch 28/30\n",
      "250/250 [==============================] - 44s 176ms/step - loss: 0.2669 - accuracy: 0.8856 - val_loss: 0.5370 - val_accuracy: 0.8000\n",
      "Epoch 29/30\n",
      "250/250 [==============================] - 43s 172ms/step - loss: 0.2582 - accuracy: 0.8920 - val_loss: 0.4637 - val_accuracy: 0.8210\n",
      "Epoch 30/30\n",
      "250/250 [==============================] - 34s 137ms/step - loss: 0.2491 - accuracy: 0.8976 - val_loss: 0.5282 - val_accuracy: 0.8080\n"
     ]
    },
    {
     "data": {
      "text/plain": [
       "<keras.callbacks.History at 0x17013ea3490>"
      ]
     },
     "execution_count": 14,
     "metadata": {},
     "output_type": "execute_result"
    }
   ],
   "source": [
    "cnn.fit(x=training_set, validation_data=test_set, epochs=30)"
   ]
  },
  {
   "cell_type": "markdown",
   "id": "00677787",
   "metadata": {},
   "source": [
    "## Part 4 - Making single prediction"
   ]
  },
  {
   "cell_type": "code",
   "execution_count": 17,
   "id": "acf4a120",
   "metadata": {},
   "outputs": [
    {
     "name": "stdout",
     "output_type": "stream",
     "text": [
      "1/1 [==============================] - 0s 20ms/step\n",
      "dog\n"
     ]
    }
   ],
   "source": [
    "import numpy as np\n",
    "from tensorflow.keras.preprocessing import image\n",
    "test_image=image.load_img(r'C:\\Users\\praga\\Downloads\\CATS_DOGS\\CNN\\dataset\\single_prediction\\cat_or_dog_1.jpg', target_size=(64,64))\n",
    "test_image=image.img_to_array(test_image)\n",
    "test_image=np.expand_dims(test_image,axis=0)\n",
    "result=cnn.predict(test_image)\n",
    "training_set.class_indices\n",
    "if result[0][0]==1:\n",
    "    prediction='dog'\n",
    "else:\n",
    "    prediction='cat'\n",
    "print(prediction)"
   ]
  },
  {
   "cell_type": "code",
   "execution_count": 20,
   "id": "95c9895d",
   "metadata": {},
   "outputs": [
    {
     "name": "stdout",
     "output_type": "stream",
     "text": [
      "1/1 [==============================] - 0s 29ms/step\n",
      "cat\n"
     ]
    }
   ],
   "source": [
    "test_image = image.load_img(r'C:\\Users\\praga\\Downloads\\CATS_DOGS\\CNN\\dataset\\single_prediction\\cat_or_dog_2.jpg', target_size = (64, 64))\n",
    "test_image = image.img_to_array(test_image)\n",
    "test_image = np.expand_dims(test_image, axis = 0)\n",
    "result = cnn.predict(test_image)\n",
    "training_set.class_indices\n",
    "if result[0][0] == 1:\n",
    "    prediction = 'dog'\n",
    "else:\n",
    "    prediction = 'cat'\n",
    "print(prediction)"
   ]
  }
 ],
 "metadata": {
  "kernelspec": {
   "display_name": "Python 3 (ipykernel)",
   "language": "python",
   "name": "python3"
  },
  "language_info": {
   "codemirror_mode": {
    "name": "ipython",
    "version": 3
   },
   "file_extension": ".py",
   "mimetype": "text/x-python",
   "name": "python",
   "nbconvert_exporter": "python",
   "pygments_lexer": "ipython3",
   "version": "3.9.7"
  }
 },
 "nbformat": 4,
 "nbformat_minor": 5
}
